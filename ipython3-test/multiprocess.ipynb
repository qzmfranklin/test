{
 "metadata": {
  "name": ""
 },
 "nbformat": 3,
 "nbformat_minor": 0,
 "worksheets": [
  {
   "cells": [
    {
     "cell_type": "code",
     "collapsed": false,
     "input": [
      "#Demo of using multiprocessing for generating data in one process and plotting\n",
      "#in another.\n",
      "#Written by Robert Cimrman\n",
      "#Requires >= Python 2.6 for the multiprocessing module or having the\n",
      "#standalone processing module installed\n",
      "\n",
      "from __future__ import print_function\n",
      "import time\n",
      "try:\n",
      "    from multiprocessing import Process, Pipe\n",
      "except ImportError:\n",
      "    from processing import Process, Pipe\n",
      "import numpy as np\n",
      "\n",
      "import matplotlib\n",
      "matplotlib.use('GtkAgg')\n",
      "import matplotlib.pyplot as plt\n",
      "import gobject\n",
      "\n",
      "class ProcessPlotter(object):\n",
      "\n",
      "    def __init__(self):\n",
      "        self.x = []\n",
      "        self.y = []\n",
      "\n",
      "    def terminate(self):\n",
      "        plt.close('all')\n",
      "\n",
      "    def poll_draw(self):\n",
      "\n",
      "        def call_back():\n",
      "            while 1:\n",
      "                if not self.pipe.poll():\n",
      "                    break\n",
      "\n",
      "                command = self.pipe.recv()\n",
      "\n",
      "                if command is None:\n",
      "                    self.terminate()\n",
      "                    return False\n",
      "\n",
      "                else:\n",
      "                    self.x.append(command[0])\n",
      "                    self.y.append(command[1])\n",
      "                    self.ax.plot(self.x, self.y, 'ro')\n",
      "\n",
      "            self.fig.canvas.draw()\n",
      "            return True\n",
      "\n",
      "        return call_back\n",
      "\n",
      "    def __call__(self, pipe):\n",
      "        print('starting plotter...')\n",
      "\n",
      "        self.pipe = pipe\n",
      "        self.fig, self.ax = plt.subplots()\n",
      "        self.gid = gobject.timeout_add(1000, self.poll_draw())\n",
      "\n",
      "        print('...done')\n",
      "        plt.show()\n",
      "\n",
      "\n",
      "class NBPlot(object):\n",
      "    def __init__(self):\n",
      "        self.plot_pipe, plotter_pipe = Pipe()\n",
      "        self.plotter = ProcessPlotter()\n",
      "        self.plot_process = Process(target = self.plotter,\n",
      "                                    args = (plotter_pipe,))\n",
      "        self.plot_process.daemon = True\n",
      "        self.plot_process.start()\n",
      "\n",
      "    def plot(self, finished=False):\n",
      "        send = self.plot_pipe.send\n",
      "        if finished:\n",
      "            send(None)\n",
      "        else:\n",
      "            data = np.random.random(2)\n",
      "            send(data)\n",
      "\n",
      "def main():\n",
      "    pl = NBPlot()\n",
      "    for ii in range(10):\n",
      "        pl.plot()\n",
      "        time.sleep(0.5)\n",
      "    raw_input('press Enter...')\n",
      "    pl.plot(finished=True)\n",
      "\n",
      "if __name__ == '__main__':\n",
      "    main()"
     ],
     "language": "python",
     "metadata": {},
     "outputs": [
      {
       "ename": "ImportError",
       "evalue": "Gtk* backend requires pygtk to be installed.",
       "output_type": "pyerr",
       "traceback": [
        "\u001b[0;31m---------------------------------------------------------------------------\u001b[0m\n\u001b[0;31mImportError\u001b[0m                               Traceback (most recent call last)",
        "\u001b[0;32m<ipython-input-1-64af81a655af>\u001b[0m in \u001b[0;36m<module>\u001b[0;34m()\u001b[0m\n\u001b[1;32m     15\u001b[0m \u001b[0;32mimport\u001b[0m \u001b[0mmatplotlib\u001b[0m\u001b[0;34m\u001b[0m\u001b[0m\n\u001b[1;32m     16\u001b[0m \u001b[0mmatplotlib\u001b[0m\u001b[0;34m.\u001b[0m\u001b[0muse\u001b[0m\u001b[0;34m(\u001b[0m\u001b[0;34m'GtkAgg'\u001b[0m\u001b[0;34m)\u001b[0m\u001b[0;34m\u001b[0m\u001b[0m\n\u001b[0;32m---> 17\u001b[0;31m \u001b[0;32mimport\u001b[0m \u001b[0mmatplotlib\u001b[0m\u001b[0;34m.\u001b[0m\u001b[0mpyplot\u001b[0m \u001b[0;32mas\u001b[0m \u001b[0mplt\u001b[0m\u001b[0;34m\u001b[0m\u001b[0m\n\u001b[0m\u001b[1;32m     18\u001b[0m \u001b[0;32mimport\u001b[0m \u001b[0mgobject\u001b[0m\u001b[0;34m\u001b[0m\u001b[0m\n\u001b[1;32m     19\u001b[0m \u001b[0;34m\u001b[0m\u001b[0m\n",
        "\u001b[0;32m/usr/local/lib/python3.3/site-packages/matplotlib/pyplot.py\u001b[0m in \u001b[0;36m<module>\u001b[0;34m()\u001b[0m\n\u001b[1;32m     96\u001b[0m \u001b[0;34m\u001b[0m\u001b[0m\n\u001b[1;32m     97\u001b[0m \u001b[0;32mfrom\u001b[0m \u001b[0mmatplotlib\u001b[0m\u001b[0;34m.\u001b[0m\u001b[0mbackends\u001b[0m \u001b[0;32mimport\u001b[0m \u001b[0mpylab_setup\u001b[0m\u001b[0;34m\u001b[0m\u001b[0m\n\u001b[0;32m---> 98\u001b[0;31m \u001b[0m_backend_mod\u001b[0m\u001b[0;34m,\u001b[0m \u001b[0mnew_figure_manager\u001b[0m\u001b[0;34m,\u001b[0m \u001b[0mdraw_if_interactive\u001b[0m\u001b[0;34m,\u001b[0m \u001b[0m_show\u001b[0m \u001b[0;34m=\u001b[0m \u001b[0mpylab_setup\u001b[0m\u001b[0;34m(\u001b[0m\u001b[0;34m)\u001b[0m\u001b[0;34m\u001b[0m\u001b[0m\n\u001b[0m\u001b[1;32m     99\u001b[0m \u001b[0;34m\u001b[0m\u001b[0m\n\u001b[1;32m    100\u001b[0m \u001b[0;34m\u001b[0m\u001b[0m\n",
        "\u001b[0;32m/usr/local/lib/python3.3/site-packages/matplotlib/backends/__init__.py\u001b[0m in \u001b[0;36mpylab_setup\u001b[0;34m()\u001b[0m\n\u001b[1;32m     23\u001b[0m         \u001b[0mbackend_name\u001b[0m \u001b[0;34m=\u001b[0m \u001b[0;34m'matplotlib.backends.%s'\u001b[0m\u001b[0;34m%\u001b[0m\u001b[0mbackend_name\u001b[0m\u001b[0;34m.\u001b[0m\u001b[0mlower\u001b[0m\u001b[0;34m(\u001b[0m\u001b[0;34m)\u001b[0m\u001b[0;34m\u001b[0m\u001b[0m\n\u001b[1;32m     24\u001b[0m     backend_mod = __import__(backend_name,\n\u001b[0;32m---> 25\u001b[0;31m                              globals(),locals(),[backend_name])\n\u001b[0m\u001b[1;32m     26\u001b[0m \u001b[0;34m\u001b[0m\u001b[0m\n\u001b[1;32m     27\u001b[0m     \u001b[0;31m# Things we pull in from all backends\u001b[0m\u001b[0;34m\u001b[0m\u001b[0;34m\u001b[0m\u001b[0m\n",
        "\u001b[0;32m/usr/local/lib/python3.3/site-packages/matplotlib/backends/backend_gtkagg.py\u001b[0m in \u001b[0;36m<module>\u001b[0;34m()\u001b[0m\n\u001b[1;32m      8\u001b[0m \u001b[0;32mfrom\u001b[0m \u001b[0mmatplotlib\u001b[0m\u001b[0;34m.\u001b[0m\u001b[0mfigure\u001b[0m \u001b[0;32mimport\u001b[0m \u001b[0mFigure\u001b[0m\u001b[0;34m\u001b[0m\u001b[0m\n\u001b[1;32m      9\u001b[0m \u001b[0;32mfrom\u001b[0m \u001b[0mmatplotlib\u001b[0m\u001b[0;34m.\u001b[0m\u001b[0mbackends\u001b[0m\u001b[0;34m.\u001b[0m\u001b[0mbackend_agg\u001b[0m \u001b[0;32mimport\u001b[0m \u001b[0mFigureCanvasAgg\u001b[0m\u001b[0;34m\u001b[0m\u001b[0m\n\u001b[0;32m---> 10\u001b[0;31m \u001b[0;32mfrom\u001b[0m \u001b[0mmatplotlib\u001b[0m\u001b[0;34m.\u001b[0m\u001b[0mbackends\u001b[0m\u001b[0;34m.\u001b[0m\u001b[0mbackend_gtk\u001b[0m \u001b[0;32mimport\u001b[0m \u001b[0mgtk\u001b[0m\u001b[0;34m,\u001b[0m \u001b[0mFigureManagerGTK\u001b[0m\u001b[0;34m,\u001b[0m \u001b[0mFigureCanvasGTK\u001b[0m\u001b[0;34m,\u001b[0m\u001b[0;31m\\\u001b[0m\u001b[0;34m\u001b[0m\u001b[0m\n\u001b[0m\u001b[1;32m     11\u001b[0m      \u001b[0mshow\u001b[0m\u001b[0;34m,\u001b[0m \u001b[0mdraw_if_interactive\u001b[0m\u001b[0;34m,\u001b[0m\u001b[0;31m\\\u001b[0m\u001b[0;34m\u001b[0m\u001b[0m\n\u001b[1;32m     12\u001b[0m      \u001b[0merror_msg_gtk\u001b[0m\u001b[0;34m,\u001b[0m \u001b[0mNavigationToolbar\u001b[0m\u001b[0;34m,\u001b[0m \u001b[0mPIXELS_PER_INCH\u001b[0m\u001b[0;34m,\u001b[0m \u001b[0mbackend_version\u001b[0m\u001b[0;34m,\u001b[0m\u001b[0;31m \u001b[0m\u001b[0;31m\\\u001b[0m\u001b[0;34m\u001b[0m\u001b[0m\n",
        "\u001b[0;32m/usr/local/lib/python3.3/site-packages/matplotlib/backends/backend_gtk.py\u001b[0m in \u001b[0;36m<module>\u001b[0;34m()\u001b[0m\n\u001b[1;32m     14\u001b[0m     \u001b[0;32mimport\u001b[0m \u001b[0mpango\u001b[0m\u001b[0;34m\u001b[0m\u001b[0m\n\u001b[1;32m     15\u001b[0m \u001b[0;32mexcept\u001b[0m \u001b[0mImportError\u001b[0m\u001b[0;34m:\u001b[0m\u001b[0;34m\u001b[0m\u001b[0m\n\u001b[0;32m---> 16\u001b[0;31m     \u001b[0;32mraise\u001b[0m \u001b[0mImportError\u001b[0m\u001b[0;34m(\u001b[0m\u001b[0;34m\"Gtk* backend requires pygtk to be installed.\"\u001b[0m\u001b[0;34m)\u001b[0m\u001b[0;34m\u001b[0m\u001b[0m\n\u001b[0m\u001b[1;32m     17\u001b[0m \u001b[0;34m\u001b[0m\u001b[0m\n\u001b[1;32m     18\u001b[0m \u001b[0mpygtk_version_required\u001b[0m \u001b[0;34m=\u001b[0m \u001b[0;34m(\u001b[0m\u001b[0;36m2\u001b[0m\u001b[0;34m,\u001b[0m\u001b[0;36m4\u001b[0m\u001b[0;34m,\u001b[0m\u001b[0;36m0\u001b[0m\u001b[0;34m)\u001b[0m\u001b[0;34m\u001b[0m\u001b[0m\n",
        "\u001b[0;31mImportError\u001b[0m: Gtk* backend requires pygtk to be installed."
       ]
      }
     ],
     "prompt_number": 1
    },
    {
     "cell_type": "code",
     "collapsed": false,
     "input": [
      "a=20\n",
      "b=2\n",
      "a**b"
     ],
     "language": "python",
     "metadata": {},
     "outputs": [
      {
       "metadata": {},
       "output_type": "pyout",
       "prompt_number": 3,
       "text": [
        "400"
       ]
      }
     ],
     "prompt_number": 3
    },
    {
     "cell_type": "code",
     "collapsed": false,
     "input": [],
     "language": "python",
     "metadata": {},
     "outputs": []
    }
   ],
   "metadata": {}
  }
 ]
}